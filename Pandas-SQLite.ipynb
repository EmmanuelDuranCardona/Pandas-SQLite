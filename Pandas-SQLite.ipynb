{
 "cells": [
  {
   "cell_type": "code",
   "execution_count": 1,
   "id": "f248b006",
   "metadata": {},
   "outputs": [
    {
     "data": {
      "text/plain": [
       "array([False,  True,  True,  True,  True,  True,  True,  True,  True,\n",
       "        True])"
      ]
     },
     "execution_count": 1,
     "metadata": {},
     "output_type": "execute_result"
    }
   ],
   "source": [
    "import numpy as np\n",
    "\n",
    "data = np.array([1,2,3,4,5,6,7,8,9,10])\n",
    "\n",
    "mask = data>1\n",
    "\n",
    "mask"
   ]
  },
  {
   "cell_type": "code",
   "execution_count": 2,
   "id": "33c3e1e9",
   "metadata": {},
   "outputs": [
    {
     "name": "stdout",
     "output_type": "stream",
     "text": [
      "0\n",
      "2\n"
     ]
    },
    {
     "data": {
      "text/plain": [
       "True"
      ]
     },
     "execution_count": 2,
     "metadata": {},
     "output_type": "execute_result"
    }
   ],
   "source": [
    "x=3\n",
    "\n",
    "print( (x>4)*2 ) # if condition is not met, return 0\n",
    "\n",
    "print( (x<4)*2 ) # if condition is met, return 1\n",
    "\n",
    "(x==3)"
   ]
  },
  {
   "cell_type": "markdown",
   "id": "cda08e9c",
   "metadata": {},
   "source": [
    "# Indexes"
   ]
  },
  {
   "cell_type": "code",
   "execution_count": 3,
   "id": "0013421b",
   "metadata": {},
   "outputs": [
    {
     "name": "stdout",
     "output_type": "stream",
     "text": [
      "[ 5 10  3]\n",
      "index_max: 1\n"
     ]
    }
   ],
   "source": [
    "array = np.array([5, 10, 3])\n",
    "print(array)\n",
    "\n",
    "print('index_max:', np.argmax(array))\n"
   ]
  },
  {
   "cell_type": "code",
   "execution_count": 4,
   "id": "3d32c5d0",
   "metadata": {},
   "outputs": [
    {
     "name": "stdout",
     "output_type": "stream",
     "text": [
      "[[ -2.90670824   2.91098881]\n",
      " [ 10.22554588  -8.44407272]\n",
      " [  2.83001757  -7.04704046]\n",
      " [ -2.53250122   4.0478344 ]\n",
      " [-22.10226631  12.45796204]\n",
      " [-15.48008633   9.76300812]]\n",
      "index_max: 9\n"
     ]
    }
   ],
   "source": [
    "#matrix = np.arange(10).reshape(5, 2) + 10\n",
    "\n",
    "matrix = np.array(\n",
    "          [[ -2.90670824,   2.91098881], # 0, 1\n",
    "          [ 10.22554588,  -8.44407272],  # 2, 3\n",
    "          [  2.83001757,  -7.04704046],  # 4, 5\n",
    "          [ -2.53250122,   4.0478344 ],  # 6, 7\n",
    "          [-22.10226631,  12.45796204],  # 8, 9\n",
    "          [-15.48008633,   9.76300812]]  # 10, 11\n",
    "                                    )\n",
    " \n",
    "print(matrix)\n",
    "\n",
    "print('index_max:', np.argmax(matrix)) # max is 12.45796204\n"
   ]
  },
  {
   "cell_type": "code",
   "execution_count": 5,
   "id": "cddf0959",
   "metadata": {},
   "outputs": [
    {
     "name": "stdout",
     "output_type": "stream",
     "text": [
      "coordinates: (array([4], dtype=int64), array([1], dtype=int64))\n"
     ]
    }
   ],
   "source": [
    "print('coordinates:', np.where(matrix == 12.45796204))"
   ]
  },
  {
   "cell_type": "code",
   "execution_count": 6,
   "id": "408a553d",
   "metadata": {},
   "outputs": [
    {
     "name": "stdout",
     "output_type": "stream",
     "text": [
      "index_max_for_each_column: [1 4]\n",
      "\n",
      "\n",
      "index_max_for_each_row: [1 0 0 1 1 1]\n"
     ]
    }
   ],
   "source": [
    "print('index_max_for_each_column:', np.argmax(matrix, axis=0)) # vertically\n",
    "\n",
    "print('\\n')\n",
    "\n",
    "print('index_max_for_each_row:', np.argmax(matrix, axis=1)) # horizontally"
   ]
  },
  {
   "cell_type": "markdown",
   "id": "fadeb8bc",
   "metadata": {},
   "source": [
    "# Create Pandas Dataframe "
   ]
  },
  {
   "cell_type": "code",
   "execution_count": 7,
   "id": "c32c1427",
   "metadata": {},
   "outputs": [
    {
     "data": {
      "text/html": [
       "<div>\n",
       "<style scoped>\n",
       "    .dataframe tbody tr th:only-of-type {\n",
       "        vertical-align: middle;\n",
       "    }\n",
       "\n",
       "    .dataframe tbody tr th {\n",
       "        vertical-align: top;\n",
       "    }\n",
       "\n",
       "    .dataframe thead th {\n",
       "        text-align: right;\n",
       "    }\n",
       "</style>\n",
       "<table border=\"1\" class=\"dataframe\">\n",
       "  <thead>\n",
       "    <tr style=\"text-align: right;\">\n",
       "      <th></th>\n",
       "      <th>strain_id</th>\n",
       "      <th>species</th>\n",
       "      <th>genus</th>\n",
       "    </tr>\n",
       "  </thead>\n",
       "  <tbody>\n",
       "    <tr>\n",
       "      <th>0</th>\n",
       "      <td>1</td>\n",
       "      <td>species 1</td>\n",
       "      <td>genus 1</td>\n",
       "    </tr>\n",
       "    <tr>\n",
       "      <th>1</th>\n",
       "      <td>2</td>\n",
       "      <td>species 2</td>\n",
       "      <td>genus 2</td>\n",
       "    </tr>\n",
       "    <tr>\n",
       "      <th>2</th>\n",
       "      <td>3</td>\n",
       "      <td>x</td>\n",
       "      <td>genus 3</td>\n",
       "    </tr>\n",
       "    <tr>\n",
       "      <th>3</th>\n",
       "      <td>4</td>\n",
       "      <td>x</td>\n",
       "      <td>genus 4</td>\n",
       "    </tr>\n",
       "  </tbody>\n",
       "</table>\n",
       "</div>"
      ],
      "text/plain": [
       "   strain_id    species    genus\n",
       "0          1  species 1  genus 1\n",
       "1          2  species 2  genus 2\n",
       "2          3          x  genus 3\n",
       "3          4          x  genus 4"
      ]
     },
     "execution_count": 7,
     "metadata": {},
     "output_type": "execute_result"
    }
   ],
   "source": [
    "# Pandas Dataframe\n",
    "import pandas as pd\n",
    "\n",
    "# initialize list of lists # BY ROW\n",
    "data = [[1, 'species 1', 'genus 1'], \n",
    "        [2, 'species 2', 'genus 2'], \n",
    "        [3, 'x', 'genus 3'],\n",
    "        [4, 'x', 'genus 4']] \n",
    "  \n",
    "# Create the pandas DataFrame \n",
    "strains  = pd.DataFrame(data, columns=['strain_id', 'species', 'genus']) \n",
    "  \n",
    "# print dataframe. \n",
    "strains  \n"
   ]
  },
  {
   "cell_type": "markdown",
   "id": "ecc0b050",
   "metadata": {},
   "source": [
    "## - Another option"
   ]
  },
  {
   "cell_type": "code",
   "execution_count": 8,
   "id": "017fe86b",
   "metadata": {},
   "outputs": [
    {
     "data": {
      "text/html": [
       "<div>\n",
       "<style scoped>\n",
       "    .dataframe tbody tr th:only-of-type {\n",
       "        vertical-align: middle;\n",
       "    }\n",
       "\n",
       "    .dataframe tbody tr th {\n",
       "        vertical-align: top;\n",
       "    }\n",
       "\n",
       "    .dataframe thead th {\n",
       "        text-align: right;\n",
       "    }\n",
       "</style>\n",
       "<table border=\"1\" class=\"dataframe\">\n",
       "  <thead>\n",
       "    <tr style=\"text-align: right;\">\n",
       "      <th></th>\n",
       "      <th>strain_id</th>\n",
       "      <th>species</th>\n",
       "      <th>genus</th>\n",
       "    </tr>\n",
       "  </thead>\n",
       "  <tbody>\n",
       "    <tr>\n",
       "      <th>0</th>\n",
       "      <td>1</td>\n",
       "      <td>species 1</td>\n",
       "      <td>genus 1</td>\n",
       "    </tr>\n",
       "    <tr>\n",
       "      <th>1</th>\n",
       "      <td>2</td>\n",
       "      <td>species 2</td>\n",
       "      <td>genus 2</td>\n",
       "    </tr>\n",
       "    <tr>\n",
       "      <th>2</th>\n",
       "      <td>3</td>\n",
       "      <td>x</td>\n",
       "      <td>genus 3</td>\n",
       "    </tr>\n",
       "    <tr>\n",
       "      <th>3</th>\n",
       "      <td>4</td>\n",
       "      <td>x</td>\n",
       "      <td>genus 4</td>\n",
       "    </tr>\n",
       "  </tbody>\n",
       "</table>\n",
       "</div>"
      ],
      "text/plain": [
       "   strain_id    species    genus\n",
       "0          1  species 1  genus 1\n",
       "1          2  species 2  genus 2\n",
       "2          3          x  genus 3\n",
       "3          4          x  genus 4"
      ]
     },
     "execution_count": 8,
     "metadata": {},
     "output_type": "execute_result"
    }
   ],
   "source": [
    "# Pandas Dataframe\n",
    "import pandas as pd\n",
    "\n",
    "  \n",
    "# Create the pandas DataFrame # BY COLUMN\n",
    "strains  = pd.DataFrame(data = {'strain_id': [1, 2, 3, 4], \n",
    "                                'species': ['species 1', 'species 2', 'x', 'x'], \n",
    "                                'genus': ['genus 1', 'genus 2', 'genus 3', 'genus 4']},\n",
    "                                ) \n",
    "  \n",
    "# print dataframe. \n",
    "strains  "
   ]
  },
  {
   "cell_type": "markdown",
   "id": "76c80f47",
   "metadata": {},
   "source": [
    "# Pandas DataFrame to SQLite"
   ]
  },
  {
   "cell_type": "code",
   "execution_count": 9,
   "id": "50e4ca2a",
   "metadata": {
    "scrolled": false
   },
   "outputs": [
    {
     "name": "stdout",
     "output_type": "stream",
     "text": [
      "(1, 'species 1', 'genus 1')\n",
      "(2, 'species 2', 'genus 2')\n",
      "(3, 'x', 'genus 3')\n",
      "(4, 'x', 'genus 4')\n"
     ]
    }
   ],
   "source": [
    "import sqlite3\n",
    "\n",
    "# Create a database named test_database\n",
    "conn = sqlite3.connect('SQL_database.db') \n",
    "c = conn.cursor()\n",
    "\n",
    "# Create table inside the database\n",
    "strains.to_sql('strainsSQL', conn, if_exists='replace', index = False)\n",
    "\n",
    "\n",
    "# Print contents\n",
    "c.execute('''  \n",
    "SELECT * FROM strainsSQL\n",
    "          ''')\n",
    "\n",
    "for row in c.fetchall():\n",
    "    print (row)\n"
   ]
  },
  {
   "cell_type": "code",
   "execution_count": 10,
   "id": "ecc34d24",
   "metadata": {},
   "outputs": [
    {
     "name": "stdout",
     "output_type": "stream",
     "text": [
      "(3,)\n",
      "(4,)\n"
     ]
    }
   ],
   "source": [
    "c.execute(''' \n",
    "    select strain_id from strainsSQL where species=\"x\"\n",
    "    ''')\n",
    "\n",
    "# Print\n",
    "for row in c.fetchall():\n",
    "    print (row)"
   ]
  },
  {
   "cell_type": "markdown",
   "id": "8d28c653",
   "metadata": {},
   "source": [
    "# SQLite to Pandas Dataframe"
   ]
  },
  {
   "cell_type": "code",
   "execution_count": 11,
   "id": "10dfe93b",
   "metadata": {},
   "outputs": [
    {
     "name": "stdout",
     "output_type": "stream",
     "text": [
      "   strain_id    species    genus\n",
      "0          1  species 1  genus 1\n",
      "1          2  species 2  genus 2\n",
      "2          3          x  genus 3\n",
      "3          4          x  genus 4\n"
     ]
    },
    {
     "data": {
      "text/plain": [
       "2    3\n",
       "3    4\n",
       "Name: strain_id, dtype: int64"
      ]
     },
     "execution_count": 11,
     "metadata": {},
     "output_type": "execute_result"
    }
   ],
   "source": [
    "conn = sqlite3.connect('SQL_database.db')\n",
    "strains = pd.read_sql('SELECT * FROM strainsSQL', conn)\n",
    "\n",
    "print(strains)\n",
    "\n",
    "strains[strains.species == \"x\"]['strain_id']"
   ]
  },
  {
   "cell_type": "code",
   "execution_count": null,
   "id": "f3b763ee",
   "metadata": {},
   "outputs": [],
   "source": []
  }
 ],
 "metadata": {
  "kernelspec": {
   "display_name": "Python 3 (ipykernel)",
   "language": "python",
   "name": "python3"
  },
  "language_info": {
   "codemirror_mode": {
    "name": "ipython",
    "version": 3
   },
   "file_extension": ".py",
   "mimetype": "text/x-python",
   "name": "python",
   "nbconvert_exporter": "python",
   "pygments_lexer": "ipython3",
   "version": "3.9.15"
  }
 },
 "nbformat": 4,
 "nbformat_minor": 5
}
